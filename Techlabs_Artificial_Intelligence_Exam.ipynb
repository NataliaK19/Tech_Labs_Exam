{
  "nbformat": 4,
  "nbformat_minor": 0,
  "metadata": {
    "kernelspec": {
      "name": "python3",
      "display_name": "Python 3"
    },
    "language_info": {
      "codemirror_mode": {
        "name": "ipython",
        "version": 3
      },
      "file_extension": ".py",
      "mimetype": "text/x-python",
      "name": "python",
      "nbconvert_exporter": "python",
      "pygments_lexer": "ipython3",
      "version": "3.6.5"
    },
    "colab": {
      "name": "Techlabs Artificial Intelligence Exam.ipynb",
      "provenance": [],
      "collapsed_sections": []
    },
    "accelerator": "GPU"
  },
  "cells": [
    {
      "cell_type": "markdown",
      "metadata": {
        "id": "luLRAfwK0SGF",
        "colab_type": "text"
      },
      "source": [
        "<img src=\"TechLabs.png\">"
      ]
    },
    {
      "cell_type": "markdown",
      "metadata": {
        "id": "6p0BAPrS0SGQ",
        "colab_type": "text"
      },
      "source": [
        "<h2>Please enter your full name here:</h2>\n",
        "Natalia Korchagina"
      ]
    },
    {
      "cell_type": "markdown",
      "metadata": {
        "id": "3-J1O13A0SGV",
        "colab_type": "text"
      },
      "source": [
        "\n",
        "<p> This exam will test your knowledge in Artificial Intelligence. </p>\n",
        "<p> We will test the following: </p>\n",
        "\n",
        "- Logistic Regressions\n",
        "- Neural Networks\n",
        "- Monte Carlo Simulation"
      ]
    },
    {
      "cell_type": "markdown",
      "metadata": {
        "id": "k7UUwFDP0SGb",
        "colab_type": "text"
      },
      "source": [
        "# Question 1:\n",
        "Below is the code to import a standard dataset with breast cancer.\n",
        "When you run the cell, you will have it stored as the object \"data\",\n",
        "and the description of the dataset is printed out for you.\n",
        "\n",
        "### Your task is to create two models for classifying the diagnosis, and compare the accuracy metrics for the two:\n",
        "### 1. a) Logistic Regression: \n",
        "\"sklearn.linear_model\" offers good logit classifiers. Because the dataset is fairly small (~500 rows), we suggest that you use the \"liblinear\" solver for fitting the logit classifier.\n",
        "\n",
        "Split the dataset into a test and training (30% test / 70% training) dataset and train the model on the training dataset. Then, classify the test dataset, and compute the accuracy, which you can print as an output.\n",
        "\n",
        "P.S.: We do not expect you to regularize for type 1 or type 2 errors. Your goal is to build models that classify well the diagnosis. Also, we do not expect you to spend hours on feature engineering and/or other things that may or may not improve testing accuracy. A good answer shall just contain a sensible model and the testing accuracy."
      ]
    },
    {
      "cell_type": "code",
      "metadata": {
        "id": "TaGtJR2E0SGf",
        "colab_type": "code",
        "outputId": "6d1f5377-dc38-4159-9647-5c65cbb70091",
        "colab": {
          "base_uri": "https://localhost:8080/",
          "height": 35
        }
      },
      "source": [
        "import numpy as np\n",
        "\n",
        "from sklearn import datasets\n",
        "data = datasets.load_breast_cancer()\n",
        "print(np.shape(data.data))"
      ],
      "execution_count": 3,
      "outputs": [
        {
          "output_type": "stream",
          "text": [
            "(569, 30)\n"
          ],
          "name": "stdout"
        }
      ]
    },
    {
      "cell_type": "code",
      "metadata": {
        "id": "6K6oM5YC728Y",
        "colab_type": "code",
        "outputId": "f58ab5ec-4b13-4831-8047-b3f772a34806",
        "colab": {
          "base_uri": "https://localhost:8080/",
          "height": 1000
        }
      },
      "source": [
        "print(data.DESCR)"
      ],
      "execution_count": 2,
      "outputs": [
        {
          "output_type": "stream",
          "text": [
            ".. _breast_cancer_dataset:\n",
            "\n",
            "Breast cancer wisconsin (diagnostic) dataset\n",
            "--------------------------------------------\n",
            "\n",
            "**Data Set Characteristics:**\n",
            "\n",
            "    :Number of Instances: 569\n",
            "\n",
            "    :Number of Attributes: 30 numeric, predictive attributes and the class\n",
            "\n",
            "    :Attribute Information:\n",
            "        - radius (mean of distances from center to points on the perimeter)\n",
            "        - texture (standard deviation of gray-scale values)\n",
            "        - perimeter\n",
            "        - area\n",
            "        - smoothness (local variation in radius lengths)\n",
            "        - compactness (perimeter^2 / area - 1.0)\n",
            "        - concavity (severity of concave portions of the contour)\n",
            "        - concave points (number of concave portions of the contour)\n",
            "        - symmetry \n",
            "        - fractal dimension (\"coastline approximation\" - 1)\n",
            "\n",
            "        The mean, standard error, and \"worst\" or largest (mean of the three\n",
            "        largest values) of these features were computed for each image,\n",
            "        resulting in 30 features.  For instance, field 3 is Mean Radius, field\n",
            "        13 is Radius SE, field 23 is Worst Radius.\n",
            "\n",
            "        - class:\n",
            "                - WDBC-Malignant\n",
            "                - WDBC-Benign\n",
            "\n",
            "    :Summary Statistics:\n",
            "\n",
            "    ===================================== ====== ======\n",
            "                                           Min    Max\n",
            "    ===================================== ====== ======\n",
            "    radius (mean):                        6.981  28.11\n",
            "    texture (mean):                       9.71   39.28\n",
            "    perimeter (mean):                     43.79  188.5\n",
            "    area (mean):                          143.5  2501.0\n",
            "    smoothness (mean):                    0.053  0.163\n",
            "    compactness (mean):                   0.019  0.345\n",
            "    concavity (mean):                     0.0    0.427\n",
            "    concave points (mean):                0.0    0.201\n",
            "    symmetry (mean):                      0.106  0.304\n",
            "    fractal dimension (mean):             0.05   0.097\n",
            "    radius (standard error):              0.112  2.873\n",
            "    texture (standard error):             0.36   4.885\n",
            "    perimeter (standard error):           0.757  21.98\n",
            "    area (standard error):                6.802  542.2\n",
            "    smoothness (standard error):          0.002  0.031\n",
            "    compactness (standard error):         0.002  0.135\n",
            "    concavity (standard error):           0.0    0.396\n",
            "    concave points (standard error):      0.0    0.053\n",
            "    symmetry (standard error):            0.008  0.079\n",
            "    fractal dimension (standard error):   0.001  0.03\n",
            "    radius (worst):                       7.93   36.04\n",
            "    texture (worst):                      12.02  49.54\n",
            "    perimeter (worst):                    50.41  251.2\n",
            "    area (worst):                         185.2  4254.0\n",
            "    smoothness (worst):                   0.071  0.223\n",
            "    compactness (worst):                  0.027  1.058\n",
            "    concavity (worst):                    0.0    1.252\n",
            "    concave points (worst):               0.0    0.291\n",
            "    symmetry (worst):                     0.156  0.664\n",
            "    fractal dimension (worst):            0.055  0.208\n",
            "    ===================================== ====== ======\n",
            "\n",
            "    :Missing Attribute Values: None\n",
            "\n",
            "    :Class Distribution: 212 - Malignant, 357 - Benign\n",
            "\n",
            "    :Creator:  Dr. William H. Wolberg, W. Nick Street, Olvi L. Mangasarian\n",
            "\n",
            "    :Donor: Nick Street\n",
            "\n",
            "    :Date: November, 1995\n",
            "\n",
            "This is a copy of UCI ML Breast Cancer Wisconsin (Diagnostic) datasets.\n",
            "https://goo.gl/U2Uwz2\n",
            "\n",
            "Features are computed from a digitized image of a fine needle\n",
            "aspirate (FNA) of a breast mass.  They describe\n",
            "characteristics of the cell nuclei present in the image.\n",
            "\n",
            "Separating plane described above was obtained using\n",
            "Multisurface Method-Tree (MSM-T) [K. P. Bennett, \"Decision Tree\n",
            "Construction Via Linear Programming.\" Proceedings of the 4th\n",
            "Midwest Artificial Intelligence and Cognitive Science Society,\n",
            "pp. 97-101, 1992], a classification method which uses linear\n",
            "programming to construct a decision tree.  Relevant features\n",
            "were selected using an exhaustive search in the space of 1-4\n",
            "features and 1-3 separating planes.\n",
            "\n",
            "The actual linear program used to obtain the separating plane\n",
            "in the 3-dimensional space is that described in:\n",
            "[K. P. Bennett and O. L. Mangasarian: \"Robust Linear\n",
            "Programming Discrimination of Two Linearly Inseparable Sets\",\n",
            "Optimization Methods and Software 1, 1992, 23-34].\n",
            "\n",
            "This database is also available through the UW CS ftp server:\n",
            "\n",
            "ftp ftp.cs.wisc.edu\n",
            "cd math-prog/cpo-dataset/machine-learn/WDBC/\n",
            "\n",
            ".. topic:: References\n",
            "\n",
            "   - W.N. Street, W.H. Wolberg and O.L. Mangasarian. Nuclear feature extraction \n",
            "     for breast tumor diagnosis. IS&T/SPIE 1993 International Symposium on \n",
            "     Electronic Imaging: Science and Technology, volume 1905, pages 861-870,\n",
            "     San Jose, CA, 1993.\n",
            "   - O.L. Mangasarian, W.N. Street and W.H. Wolberg. Breast cancer diagnosis and \n",
            "     prognosis via linear programming. Operations Research, 43(4), pages 570-577, \n",
            "     July-August 1995.\n",
            "   - W.H. Wolberg, W.N. Street, and O.L. Mangasarian. Machine learning techniques\n",
            "     to diagnose breast cancer from fine-needle aspirates. Cancer Letters 77 (1994) \n",
            "     163-171.\n"
          ],
          "name": "stdout"
        }
      ]
    },
    {
      "cell_type": "code",
      "metadata": {
        "id": "erh4M0aA02pn",
        "colab_type": "code",
        "outputId": "adf852cd-721f-4ac3-d27a-a12dfaaf3e5e",
        "colab": {
          "base_uri": "https://localhost:8080/",
          "height": 35
        }
      },
      "source": [
        "type(data)"
      ],
      "execution_count": 3,
      "outputs": [
        {
          "output_type": "execute_result",
          "data": {
            "text/plain": [
              "sklearn.utils.Bunch"
            ]
          },
          "metadata": {
            "tags": []
          },
          "execution_count": 3
        }
      ]
    },
    {
      "cell_type": "code",
      "metadata": {
        "id": "hdVIKxu92H13",
        "colab_type": "code",
        "colab": {}
      },
      "source": [
        "import pandas as pd\n",
        "data_2=pd.DataFrame(data.data, columns=data.feature_names)\n",
        "data_2['target']=data.target"
      ],
      "execution_count": 0,
      "outputs": []
    },
    {
      "cell_type": "code",
      "metadata": {
        "id": "ibbFZ5V72NRn",
        "colab_type": "code",
        "outputId": "4b3cec4b-0564-4f76-950b-1cafe795e346",
        "colab": {
          "base_uri": "https://localhost:8080/",
          "height": 641
        }
      },
      "source": [
        "data_2.info()"
      ],
      "execution_count": 5,
      "outputs": [
        {
          "output_type": "stream",
          "text": [
            "<class 'pandas.core.frame.DataFrame'>\n",
            "RangeIndex: 569 entries, 0 to 568\n",
            "Data columns (total 31 columns):\n",
            "mean radius                569 non-null float64\n",
            "mean texture               569 non-null float64\n",
            "mean perimeter             569 non-null float64\n",
            "mean area                  569 non-null float64\n",
            "mean smoothness            569 non-null float64\n",
            "mean compactness           569 non-null float64\n",
            "mean concavity             569 non-null float64\n",
            "mean concave points        569 non-null float64\n",
            "mean symmetry              569 non-null float64\n",
            "mean fractal dimension     569 non-null float64\n",
            "radius error               569 non-null float64\n",
            "texture error              569 non-null float64\n",
            "perimeter error            569 non-null float64\n",
            "area error                 569 non-null float64\n",
            "smoothness error           569 non-null float64\n",
            "compactness error          569 non-null float64\n",
            "concavity error            569 non-null float64\n",
            "concave points error       569 non-null float64\n",
            "symmetry error             569 non-null float64\n",
            "fractal dimension error    569 non-null float64\n",
            "worst radius               569 non-null float64\n",
            "worst texture              569 non-null float64\n",
            "worst perimeter            569 non-null float64\n",
            "worst area                 569 non-null float64\n",
            "worst smoothness           569 non-null float64\n",
            "worst compactness          569 non-null float64\n",
            "worst concavity            569 non-null float64\n",
            "worst concave points       569 non-null float64\n",
            "worst symmetry             569 non-null float64\n",
            "worst fractal dimension    569 non-null float64\n",
            "target                     569 non-null int64\n",
            "dtypes: float64(30), int64(1)\n",
            "memory usage: 137.9 KB\n"
          ],
          "name": "stdout"
        }
      ]
    },
    {
      "cell_type": "code",
      "metadata": {
        "id": "fbh9KfS-55Et",
        "colab_type": "code",
        "colab": {}
      },
      "source": [
        "X=data_2.iloc[:,0:30].values\n",
        "Y=data_2.iloc[:,30].values\n",
        "\n",
        "from sklearn import preprocessing\n",
        "std_scaler=preprocessing.StandardScaler()\n",
        "X_std=std_scaler.fit_transform(X)"
      ],
      "execution_count": 0,
      "outputs": []
    },
    {
      "cell_type": "code",
      "metadata": {
        "id": "0SM-s9vF45DM",
        "colab_type": "code",
        "outputId": "1b09746a-9a8a-43cc-f555-d2fece75b070",
        "colab": {
          "base_uri": "https://localhost:8080/",
          "height": 35
        }
      },
      "source": [
        "# Split into Train and Test Sets\n",
        "from numpy import set_printoptions\n",
        "set_printoptions(precision=3)\n",
        "\n",
        "from sklearn.model_selection import train_test_split\n",
        "from sklearn.linear_model import LogisticRegression \n",
        "\n",
        "test_size=0.3\n",
        "seed = 7\n",
        "\n",
        "# the actual split\n",
        "X_train, X_test, Y_train, Y_test = train_test_split(X_std,Y, test_size=test_size, random_state=seed) #seed - same random numbers\n",
        "\n",
        "# Let's do the log regresssion\n",
        "model = LogisticRegression(solver='liblinear')\n",
        "model.fit(X_train,Y_train)\n",
        "\n",
        "# Now let's find the accurary with the test split\n",
        "result = model.score(X_test, Y_test)\n",
        "\n",
        "print(f'Accuracy {result*100:5.3f}')"
      ],
      "execution_count": 7,
      "outputs": [
        {
          "output_type": "stream",
          "text": [
            "Accuracy 97.076\n"
          ],
          "name": "stdout"
        }
      ]
    },
    {
      "cell_type": "markdown",
      "metadata": {
        "id": "NuMW0SEp0SG-",
        "colab_type": "text"
      },
      "source": [
        "# Print the logit accuracy below:"
      ]
    },
    {
      "cell_type": "code",
      "metadata": {
        "id": "CUCqUBUj0SHA",
        "colab_type": "code",
        "outputId": "fd8f8f50-48c2-43cb-8b27-32b1c414df83",
        "colab": {
          "base_uri": "https://localhost:8080/",
          "height": 52
        }
      },
      "source": [
        "logitacc = \"97.076\"\n",
        "print(f\"\\ntesting set accuracy with logit is: {logitacc}\")"
      ],
      "execution_count": 8,
      "outputs": [
        {
          "output_type": "stream",
          "text": [
            "\n",
            "testing set accuracy with logit is: 97.076\n"
          ],
          "name": "stdout"
        }
      ]
    },
    {
      "cell_type": "markdown",
      "metadata": {
        "id": "m7tFlsC70SHJ",
        "colab_type": "text"
      },
      "source": [
        "### 1. b) Feedforward Neural Network:\n",
        "So far, so good. Let's see how a feedforward neural network does for the same task.\n",
        "\n",
        "Take the same train/test split as in a), and construct the following neural network, which you fit to the data:"
      ]
    },
    {
      "cell_type": "code",
      "metadata": {
        "jupyter": {
          "source_hidden": true
        },
        "id": "fDcbydk80SHL",
        "colab_type": "code",
        "outputId": "2dde5472-bdd4-42b9-ec0c-11eaeef5042a",
        "colab": {
          "base_uri": "https://localhost:8080/",
          "height": 295
        }
      },
      "source": [
        "import pickle\n",
        "pickle.loads(b'\\x80\\x03]q\\x00(X\\x15\\x00\\x00\\x00Model: \"sequential_2\"q\\x01XA\\x00\\x00\\x00_________________________________________________________________q\\x02XA\\x00\\x00\\x00Layer (type)                 Output Shape              Param #   q\\x03XA\\x00\\x00\\x00=================================================================q\\x04XA\\x00\\x00\\x00dense_5 (Dense)              (None, 30)                930       q\\x05XA\\x00\\x00\\x00_________________________________________________________________q\\x06XA\\x00\\x00\\x00dense_6 (Dense)              (None, 50)                1550      q\\x07XA\\x00\\x00\\x00_________________________________________________________________q\\x08XA\\x00\\x00\\x00dense_7 (Dense)              (None, 30)                1530      q\\tXA\\x00\\x00\\x00_________________________________________________________________q\\nXA\\x00\\x00\\x00dense_8 (Dense)              (None, 1)                 31        q\\x0bXA\\x00\\x00\\x00=================================================================q\\x0cX\\x13\\x00\\x00\\x00Total params: 4,041q\\rX\\x17\\x00\\x00\\x00Trainable params: 4,041q\\x0eX\\x17\\x00\\x00\\x00Non-trainable params: 0q\\x0fXA\\x00\\x00\\x00_________________________________________________________________q\\x10e.')"
      ],
      "execution_count": 9,
      "outputs": [
        {
          "output_type": "execute_result",
          "data": {
            "text/plain": [
              "['Model: \"sequential_2\"',\n",
              " '_________________________________________________________________',\n",
              " 'Layer (type)                 Output Shape              Param #   ',\n",
              " '=================================================================',\n",
              " 'dense_5 (Dense)              (None, 30)                930       ',\n",
              " '_________________________________________________________________',\n",
              " 'dense_6 (Dense)              (None, 50)                1550      ',\n",
              " '_________________________________________________________________',\n",
              " 'dense_7 (Dense)              (None, 30)                1530      ',\n",
              " '_________________________________________________________________',\n",
              " 'dense_8 (Dense)              (None, 1)                 31        ',\n",
              " '=================================================================',\n",
              " 'Total params: 4,041',\n",
              " 'Trainable params: 4,041',\n",
              " 'Non-trainable params: 0',\n",
              " '_________________________________________________________________']"
            ]
          },
          "metadata": {
            "tags": []
          },
          "execution_count": 9
        }
      ]
    },
    {
      "cell_type": "markdown",
      "metadata": {
        "id": "8ySgjxjJ0SHR",
        "colab_type": "text"
      },
      "source": [
        "### You can use the library keras to contruct the ANN. Since we are dealing with a classification problem, we recommend binary_crossentropy as a loss function.\n",
        "Choose a reasonable batch size and epoch count and train the model.\n",
        "### Here again, print the testing dataset accuracy:"
      ]
    },
    {
      "cell_type": "code",
      "metadata": {
        "id": "6rz0OxMsCVgM",
        "colab_type": "code",
        "outputId": "706bd5e5-e134-42fb-de80-800fc6839f7c",
        "colab": {
          "base_uri": "https://localhost:8080/",
          "height": 81
        }
      },
      "source": [
        "import keras\n",
        "from keras.models import Sequential\n",
        "from keras.layers import Dense"
      ],
      "execution_count": 10,
      "outputs": [
        {
          "output_type": "stream",
          "text": [
            "Using TensorFlow backend.\n"
          ],
          "name": "stderr"
        },
        {
          "output_type": "display_data",
          "data": {
            "text/html": [
              "<p style=\"color: red;\">\n",
              "The default version of TensorFlow in Colab will soon switch to TensorFlow 2.x.<br>\n",
              "We recommend you <a href=\"https://www.tensorflow.org/guide/migrate\" target=\"_blank\">upgrade</a> now \n",
              "or ensure your notebook will continue to use TensorFlow 1.x via the <code>%tensorflow_version 1.x</code> magic:\n",
              "<a href=\"https://colab.research.google.com/notebooks/tensorflow_version.ipynb\" target=\"_blank\">more info</a>.</p>\n"
            ],
            "text/plain": [
              "<IPython.core.display.HTML object>"
            ]
          },
          "metadata": {
            "tags": []
          }
        }
      ]
    },
    {
      "cell_type": "code",
      "metadata": {
        "id": "EDiLEFy_TG8K",
        "colab_type": "code",
        "outputId": "b2bc622a-a40f-4eb8-a55f-5d727ba0c4b0",
        "colab": {
          "base_uri": "https://localhost:8080/",
          "height": 72
        }
      },
      "source": [
        "model = Sequential()"
      ],
      "execution_count": 11,
      "outputs": [
        {
          "output_type": "stream",
          "text": [
            "WARNING:tensorflow:From /usr/local/lib/python3.6/dist-packages/keras/backend/tensorflow_backend.py:66: The name tf.get_default_graph is deprecated. Please use tf.compat.v1.get_default_graph instead.\n",
            "\n"
          ],
          "name": "stdout"
        }
      ]
    },
    {
      "cell_type": "code",
      "metadata": {
        "id": "HcG1CjN6TRZR",
        "colab_type": "code",
        "outputId": "33c630d8-945d-41ff-e6ba-ebbdd24090fb",
        "colab": {
          "base_uri": "https://localhost:8080/",
          "height": 107
        }
      },
      "source": [
        "model.add(Dense(30, input_dim=30, activation='relu'))\n",
        "model.add(Dense(50, activation='relu'))\n",
        "model.add(Dense(30, activation='relu'))\n",
        "model.add(Dense(1, activation='sigmoid'))"
      ],
      "execution_count": 12,
      "outputs": [
        {
          "output_type": "stream",
          "text": [
            "WARNING:tensorflow:From /usr/local/lib/python3.6/dist-packages/keras/backend/tensorflow_backend.py:541: The name tf.placeholder is deprecated. Please use tf.compat.v1.placeholder instead.\n",
            "\n",
            "WARNING:tensorflow:From /usr/local/lib/python3.6/dist-packages/keras/backend/tensorflow_backend.py:4432: The name tf.random_uniform is deprecated. Please use tf.random.uniform instead.\n",
            "\n"
          ],
          "name": "stdout"
        }
      ]
    },
    {
      "cell_type": "code",
      "metadata": {
        "id": "Qwb2XezM3RQO",
        "colab_type": "code",
        "colab": {
          "base_uri": "https://localhost:8080/",
          "height": 312
        },
        "outputId": "dc519461-9e88-44f1-8e8e-27081f325061"
      },
      "source": [
        "print(model.summary())"
      ],
      "execution_count": 19,
      "outputs": [
        {
          "output_type": "stream",
          "text": [
            "Model: \"sequential_1\"\n",
            "_________________________________________________________________\n",
            "Layer (type)                 Output Shape              Param #   \n",
            "=================================================================\n",
            "dense_1 (Dense)              (None, 30)                930       \n",
            "_________________________________________________________________\n",
            "dense_2 (Dense)              (None, 50)                1550      \n",
            "_________________________________________________________________\n",
            "dense_3 (Dense)              (None, 30)                1530      \n",
            "_________________________________________________________________\n",
            "dense_4 (Dense)              (None, 1)                 31        \n",
            "=================================================================\n",
            "Total params: 4,041\n",
            "Trainable params: 4,041\n",
            "Non-trainable params: 0\n",
            "_________________________________________________________________\n",
            "None\n"
          ],
          "name": "stdout"
        }
      ]
    },
    {
      "cell_type": "code",
      "metadata": {
        "id": "ly5xmX_IYt1r",
        "colab_type": "code",
        "outputId": "d0a487ad-b50b-4ca7-c6c7-674ebe2fddda",
        "colab": {
          "base_uri": "https://localhost:8080/",
          "height": 159
        }
      },
      "source": [
        "from keras.optimizers import Nadam\n",
        "opt = Nadam(lr=0.002, beta_1=0.9, beta_2=0.999)\n",
        "model.compile(loss='binary_crossentropy', optimizer=opt, metrics=['accuracy'])"
      ],
      "execution_count": 13,
      "outputs": [
        {
          "output_type": "stream",
          "text": [
            "WARNING:tensorflow:From /usr/local/lib/python3.6/dist-packages/keras/optimizers.py:793: The name tf.train.Optimizer is deprecated. Please use tf.compat.v1.train.Optimizer instead.\n",
            "\n",
            "WARNING:tensorflow:From /usr/local/lib/python3.6/dist-packages/keras/backend/tensorflow_backend.py:3657: The name tf.log is deprecated. Please use tf.math.log instead.\n",
            "\n",
            "WARNING:tensorflow:From /usr/local/lib/python3.6/dist-packages/tensorflow_core/python/ops/nn_impl.py:183: where (from tensorflow.python.ops.array_ops) is deprecated and will be removed in a future version.\n",
            "Instructions for updating:\n",
            "Use tf.where in 2.0, which has the same broadcast rule as np.where\n"
          ],
          "name": "stdout"
        }
      ]
    },
    {
      "cell_type": "code",
      "metadata": {
        "id": "aynXJpKYZxIe",
        "colab_type": "code",
        "outputId": "285b13b8-0582-440e-c6ff-5c2b07965b3a",
        "colab": {
          "base_uri": "https://localhost:8080/",
          "height": 1000
        }
      },
      "source": [
        "history = model.fit(X_train, Y_train, epochs=38, batch_size=32)"
      ],
      "execution_count": 14,
      "outputs": [
        {
          "output_type": "stream",
          "text": [
            "WARNING:tensorflow:From /usr/local/lib/python3.6/dist-packages/keras/backend/tensorflow_backend.py:1033: The name tf.assign_add is deprecated. Please use tf.compat.v1.assign_add instead.\n",
            "\n",
            "WARNING:tensorflow:From /usr/local/lib/python3.6/dist-packages/keras/backend/tensorflow_backend.py:1020: The name tf.assign is deprecated. Please use tf.compat.v1.assign instead.\n",
            "\n",
            "WARNING:tensorflow:From /usr/local/lib/python3.6/dist-packages/keras/backend/tensorflow_backend.py:3005: The name tf.Session is deprecated. Please use tf.compat.v1.Session instead.\n",
            "\n",
            "Epoch 1/38\n",
            "WARNING:tensorflow:From /usr/local/lib/python3.6/dist-packages/keras/backend/tensorflow_backend.py:190: The name tf.get_default_session is deprecated. Please use tf.compat.v1.get_default_session instead.\n",
            "\n",
            "WARNING:tensorflow:From /usr/local/lib/python3.6/dist-packages/keras/backend/tensorflow_backend.py:197: The name tf.ConfigProto is deprecated. Please use tf.compat.v1.ConfigProto instead.\n",
            "\n",
            "WARNING:tensorflow:From /usr/local/lib/python3.6/dist-packages/keras/backend/tensorflow_backend.py:207: The name tf.global_variables is deprecated. Please use tf.compat.v1.global_variables instead.\n",
            "\n",
            "WARNING:tensorflow:From /usr/local/lib/python3.6/dist-packages/keras/backend/tensorflow_backend.py:216: The name tf.is_variable_initialized is deprecated. Please use tf.compat.v1.is_variable_initialized instead.\n",
            "\n",
            "WARNING:tensorflow:From /usr/local/lib/python3.6/dist-packages/keras/backend/tensorflow_backend.py:223: The name tf.variables_initializer is deprecated. Please use tf.compat.v1.variables_initializer instead.\n",
            "\n",
            "398/398 [==============================] - 1s 3ms/step - loss: 0.4560 - acc: 0.8141\n",
            "Epoch 2/38\n",
            "398/398 [==============================] - 0s 137us/step - loss: 0.2219 - acc: 0.9397\n",
            "Epoch 3/38\n",
            "398/398 [==============================] - 0s 120us/step - loss: 0.1366 - acc: 0.9472\n",
            "Epoch 4/38\n",
            "398/398 [==============================] - 0s 121us/step - loss: 0.1011 - acc: 0.9623\n",
            "Epoch 5/38\n",
            "398/398 [==============================] - 0s 129us/step - loss: 0.0799 - acc: 0.9724\n",
            "Epoch 6/38\n",
            "398/398 [==============================] - 0s 119us/step - loss: 0.0695 - acc: 0.9774\n",
            "Epoch 7/38\n",
            "398/398 [==============================] - 0s 124us/step - loss: 0.0590 - acc: 0.9874\n",
            "Epoch 8/38\n",
            "398/398 [==============================] - 0s 135us/step - loss: 0.0507 - acc: 0.9874\n",
            "Epoch 9/38\n",
            "398/398 [==============================] - 0s 132us/step - loss: 0.0495 - acc: 0.9874\n",
            "Epoch 10/38\n",
            "398/398 [==============================] - 0s 125us/step - loss: 0.0401 - acc: 0.9925\n",
            "Epoch 11/38\n",
            "398/398 [==============================] - 0s 126us/step - loss: 0.0342 - acc: 0.9925\n",
            "Epoch 12/38\n",
            "398/398 [==============================] - 0s 128us/step - loss: 0.0317 - acc: 0.9925\n",
            "Epoch 13/38\n",
            "398/398 [==============================] - 0s 139us/step - loss: 0.0272 - acc: 0.9925\n",
            "Epoch 14/38\n",
            "398/398 [==============================] - 0s 135us/step - loss: 0.0256 - acc: 0.9950\n",
            "Epoch 15/38\n",
            "398/398 [==============================] - 0s 132us/step - loss: 0.0210 - acc: 0.9925\n",
            "Epoch 16/38\n",
            "398/398 [==============================] - 0s 139us/step - loss: 0.0199 - acc: 0.9950\n",
            "Epoch 17/38\n",
            "398/398 [==============================] - 0s 130us/step - loss: 0.0156 - acc: 0.9950\n",
            "Epoch 18/38\n",
            "398/398 [==============================] - 0s 126us/step - loss: 0.0132 - acc: 0.9950\n",
            "Epoch 19/38\n",
            "398/398 [==============================] - 0s 118us/step - loss: 0.0135 - acc: 0.9925\n",
            "Epoch 20/38\n",
            "398/398 [==============================] - 0s 121us/step - loss: 0.0097 - acc: 0.9975\n",
            "Epoch 21/38\n",
            "398/398 [==============================] - 0s 148us/step - loss: 0.0083 - acc: 0.9975\n",
            "Epoch 22/38\n",
            "398/398 [==============================] - 0s 117us/step - loss: 0.0072 - acc: 1.0000\n",
            "Epoch 23/38\n",
            "398/398 [==============================] - 0s 119us/step - loss: 0.0059 - acc: 1.0000\n",
            "Epoch 24/38\n",
            "398/398 [==============================] - 0s 123us/step - loss: 0.0051 - acc: 1.0000\n",
            "Epoch 25/38\n",
            "398/398 [==============================] - 0s 137us/step - loss: 0.0047 - acc: 1.0000\n",
            "Epoch 26/38\n",
            "398/398 [==============================] - 0s 131us/step - loss: 0.0042 - acc: 1.0000\n",
            "Epoch 27/38\n",
            "398/398 [==============================] - 0s 129us/step - loss: 0.0033 - acc: 1.0000\n",
            "Epoch 28/38\n",
            "398/398 [==============================] - 0s 135us/step - loss: 0.0026 - acc: 1.0000\n",
            "Epoch 29/38\n",
            "398/398 [==============================] - 0s 116us/step - loss: 0.0024 - acc: 1.0000\n",
            "Epoch 30/38\n",
            "398/398 [==============================] - 0s 114us/step - loss: 0.0020 - acc: 1.0000\n",
            "Epoch 31/38\n",
            "398/398 [==============================] - 0s 131us/step - loss: 0.0018 - acc: 1.0000\n",
            "Epoch 32/38\n",
            "398/398 [==============================] - 0s 116us/step - loss: 0.0016 - acc: 1.0000\n",
            "Epoch 33/38\n",
            "398/398 [==============================] - 0s 123us/step - loss: 0.0015 - acc: 1.0000\n",
            "Epoch 34/38\n",
            "398/398 [==============================] - 0s 138us/step - loss: 0.0012 - acc: 1.0000\n",
            "Epoch 35/38\n",
            "398/398 [==============================] - 0s 122us/step - loss: 0.0011 - acc: 1.0000\n",
            "Epoch 36/38\n",
            "398/398 [==============================] - 0s 133us/step - loss: 9.8257e-04 - acc: 1.0000\n",
            "Epoch 37/38\n",
            "398/398 [==============================] - 0s 128us/step - loss: 8.8694e-04 - acc: 1.0000\n",
            "Epoch 38/38\n",
            "398/398 [==============================] - 0s 127us/step - loss: 8.2608e-04 - acc: 1.0000\n"
          ],
          "name": "stdout"
        }
      ]
    },
    {
      "cell_type": "code",
      "metadata": {
        "id": "gUZZ2wPa0SHT",
        "colab_type": "code",
        "outputId": "278031d4-a3c2-4190-91b1-a83771183e35",
        "colab": {
          "base_uri": "https://localhost:8080/",
          "height": 87
        }
      },
      "source": [
        "# Evaluate the model on the test data using `evaluate`\n",
        "print('\\n# Evaluate on test data')\n",
        "results = model.evaluate(X_test, Y_test, batch_size=32)\n",
        "print('test loss, test acc:', results)"
      ],
      "execution_count": 16,
      "outputs": [
        {
          "output_type": "stream",
          "text": [
            "\n",
            "# Evaluate on test data\n",
            "171/171 [==============================] - 0s 258us/step\n",
            "test loss, test acc: [0.11678556935679255, 0.9824561403508771]\n"
          ],
          "name": "stdout"
        }
      ]
    },
    {
      "cell_type": "code",
      "metadata": {
        "id": "L_qMM_4A0SHX",
        "colab_type": "code",
        "colab": {}
      },
      "source": [
        "ANNacc = \"98.25\"\n",
        "print(f\"\\ntesting set accuracy with logit is: {ANNacc}\")"
      ],
      "execution_count": 0,
      "outputs": []
    },
    {
      "cell_type": "markdown",
      "metadata": {
        "id": "qh_29qsH0SHd",
        "colab_type": "text"
      },
      "source": [
        "### 1. c) Compare the performance of the neural net with the logit. Which one seems better at the job and why might that be?\n",
        "Please also comment on which model you would choose to implement in a case like this and why."
      ]
    },
    {
      "cell_type": "code",
      "metadata": {
        "id": "LLRb3hyL0SHf",
        "colab_type": "code",
        "outputId": "508f6627-51bf-4114-9d66-53f2357988c8",
        "colab": {
          "base_uri": "https://localhost:8080/",
          "height": 55
        }
      },
      "source": [
        "'''\n",
        "Explanation:\n",
        "The accuracy of ANN is higher than of logistic regression. \n",
        "ANNs are more complex, as they contain several layers to run the classification. \n",
        "At the same time, compared to logistic regression, neural network models are more flexible, and thus more susceptible to overfitting. \n",
        "So ANNs are usually more accurate in their predictions than logistic regressions, but only in case if ANNs are not overfitting, \n",
        "which can be an issue when the dataset is too small and number of epochs is too big. \n",
        "ANN outperforms logistic regression on huge datasets. \n",
        "In this case, both models can be applied, but logistic regression is more convenient to use, because the dataset is quite small, \n",
        "and you do not need to spend time tuning the parameters (as in case with ANN - # of epochs, batch size, choosing optimizer and etc.) \n",
        "and still get a high accuracy.\n",
        "'''"
      ],
      "execution_count": 21,
      "outputs": [
        {
          "output_type": "execute_result",
          "data": {
            "text/plain": [
              "'\\nExplanation:\\nThe accuracy of ANN is higher than of logistic regression. \\nANN are more complex, as they contain several layers to run the classification. \\nAt the same time, compared to logistic regression, neural network models are more flexible, and thus more susceptible to overfitting. \\nSo ANN are usually more accurate in their predictions than logistic regression, but only in case if ANN is not overfitting, \\nwhich can be an issue when the dataset is too small and number of epochs is too big. \\nANN outperforms logistic regression on huge datasets. In this case, both models can be applied, \\nbut logistic regression is more convenient to use, because the dataset is quite small, \\nand you do not need to spend time tuning the parameters (as in case with ANN) and still get a high accuracy.\\n'"
            ]
          },
          "metadata": {
            "tags": []
          },
          "execution_count": 21
        }
      ]
    },
    {
      "cell_type": "markdown",
      "metadata": {
        "id": "0Y7MpihA0SHk",
        "colab_type": "text"
      },
      "source": [
        "# Question 2:\n",
        "### Your coding skills have gained you a job as an options trader at a successful hedge fund! Congratulations!!\n",
        "\n",
        "At the first day, your boss comes to you and asks you, whether he should buy a _call option_* with a certain set of characteristics for 1€.\n",
        "\n",
        "    *A call option gives you the right (but not obligation) to buy a share for a certain strike price. In other words, if the stock price is higher than the strike price, you get the difference, otherwise, you get 0: \n",
        "    \n",
        "    callpayoff = max(stockprice - strikeprice, 0) \n",
        "\n",
        "To price the option, you shall build a monte-carlo simulator which generatates _1 000 000_ random walks, each representing the stock price in one year, which is when the option can be expired. By taking the average of these payouts, you will get the expected payout at expiry!\n",
        "\n",
        "Luckily, your boss has also given you the characteristics and hints for how the stock price moves: \n",
        "\n",
        "The stock price follows a student T distribution with 3 degrees of freedom (the rvs function within the t class from scipy.stats package is a great tool for creating random walks with this distribution: https://docs.scipy.org/doc/scipy/reference/generated/scipy.stats.t.html  ctrl+f \"rvs\") \n",
        "\n",
        "- The stock price today: 69\n",
        "- Stock returns follow student T distribution with 3 degrees of freedom\n",
        "- drift of 10% per year \n",
        "- volatility of 20%\n",
        "- strike price of the option is 96\n",
        "\n",
        "### Build a function that returns the price of the call option, and shows your boss what payout he can expect from the option in order to explain him, whether he should buy it or not.\n",
        "\n",
        "    P.S.: If you run into trouble on your way, you can always ask for tips from your boss and since he is a nice guy, he will also give a good grade for all attempts!"
      ]
    },
    {
      "cell_type": "code",
      "metadata": {
        "id": "CuZaXN4H9aWc",
        "colab_type": "code",
        "colab": {
          "base_uri": "https://localhost:8080/",
          "height": 35
        },
        "outputId": "32410266-e85c-4a4c-fda4-363fd1e31d21"
      },
      "source": [
        "#Define Variables\n",
        "S = 69 #starting stock price (i.e. last available real stock price)\n",
        "T = 1 \n",
        "drift = 0.1 #Drift\n",
        "stdev = 0.2 #Volatility\n",
        "\n",
        "\n",
        "#create list of daily returns using random normal distribution\n",
        "from scipy.stats import t\n",
        "df=3 #degrees of freedom\n",
        "Z = t.rvs(df=df, size=1000000)\n",
        "daily_returns = np.exp(drift + stdev * Z)\n",
        "\n",
        "#set starting price and create price series generated by above random daily returns\n",
        "price_list = np.zeros_like(daily_returns)\n",
        "price_list[0] = S\n",
        "\n",
        "for t in range(1, len(daily_returns)):\n",
        "    price_list[t] = price_list[t - 1] * daily_returns[t]\n",
        "\n"
      ],
      "execution_count": 25,
      "outputs": [
        {
          "output_type": "stream",
          "text": [
            "/usr/local/lib/python3.6/dist-packages/ipykernel_launcher.py:18: RuntimeWarning: overflow encountered in double_scalars\n"
          ],
          "name": "stderr"
        }
      ]
    },
    {
      "cell_type": "markdown",
      "metadata": {
        "id": "ZYpVlLw_0SHq",
        "colab_type": "text"
      },
      "source": [
        "# Good luck!\n",
        "\n",
        "Don't forget: google, github and stack overflow are your best friends!\n"
      ]
    }
  ]
}